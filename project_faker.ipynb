{
 "cells": [
  {
   "cell_type": "code",
   "execution_count": 1,
   "id": "46226b5e-358e-452c-88ae-41a51600b63b",
   "metadata": {},
   "outputs": [],
   "source": [
    "import pandas as pd \n",
    "import matplotlib.pyplot as plt\n",
    "import numpy as np\n",
    "import os\n",
    "import seaborn as sns\n",
    "from faker import Faker\n",
    "from mysql import connector as cn\n",
    "import datetime as datetime"
   ]
  },
  {
   "cell_type": "code",
   "execution_count": 2,
   "id": "4f11b865-681e-431c-ab1f-3caa83427017",
   "metadata": {},
   "outputs": [],
   "source": [
    "# instantiating faker\n",
    "fk= Faker()"
   ]
  },
  {
   "cell_type": "code",
   "execution_count": 3,
   "id": "3e6e87a2-df7d-4840-a4e6-49353d5c10d1",
   "metadata": {},
   "outputs": [],
   "source": [
    "# defining the number of row the dataset should have\n",
    "rows=3000"
   ]
  },
  {
   "cell_type": "code",
   "execution_count": 4,
   "id": "e97ebb61-40a7-4d7a-8350-03a10dfa853d",
   "metadata": {},
   "outputs": [],
   "source": [
    "# making sure the data is reproducible\n",
    "Faker.seed(452)\n",
    "# ceating an empty list of my table books\n",
    "books=[]\n",
    "# iterrating in each row get the entries\n",
    "for row in range(rows):\n",
    "    # creating dictionary for column book\n",
    "    book={'bookid': row,\n",
    "           'author':fk.name(),\n",
    "           'title':fk.sentence(),\n",
    "           'published':fk.year(),\n",
    "           'barcode':fk.ean(length=8) }\n",
    "    # appending into empty list 'books'\n",
    "    books.append(book)"
   ]
  },
  {
   "cell_type": "code",
   "execution_count": 5,
   "id": "261ec242-2fad-40e0-9bdd-7205ec684296",
   "metadata": {},
   "outputs": [],
   "source": [
    "# creating an empty list called patron\n",
    "patrons= []\n",
    "#iterrating in reach row to get the entries\n",
    "for row in range(rows):\n",
    "    # creating a dictionary for the table patron\n",
    "    patron={'patronid':row, \n",
    "           'first_name':fk.first_name(),\n",
    "           'last_name':fk.last_name(),\n",
    "           'email':fk.email()}\n",
    "    patrons.append(patron)"
   ]
  },
  {
   "cell_type": "code",
   "execution_count": 6,
   "id": "3b46cdc6-797d-4533-8a7f-cf63c78cf355",
   "metadata": {},
   "outputs": [],
   "source": [
    "# creating an empty list, loan\n",
    "loans= []\n",
    "#iterrating in each row to get the entries\n",
    "for row in range(rows):\n",
    "    # creating a dictionary \n",
    "    loan={'loanid':row,\n",
    "         'bookid':row,\n",
    "         'patronid':row,\n",
    "         'loandate':fk.date_this_decade(),\n",
    "         'duedate':fk.date_this_decade(),\n",
    "         'returndate':fk.date_this_decade()}\n",
    "    loans.append(loan)"
   ]
  },
  {
   "cell_type": "code",
   "execution_count": 7,
   "id": "193b6f50-74f9-4f7a-ad94-c74a7d8a63ba",
   "metadata": {},
   "outputs": [
    {
     "data": {
      "text/html": [
       "<div>\n",
       "<style scoped>\n",
       "    .dataframe tbody tr th:only-of-type {\n",
       "        vertical-align: middle;\n",
       "    }\n",
       "\n",
       "    .dataframe tbody tr th {\n",
       "        vertical-align: top;\n",
       "    }\n",
       "\n",
       "    .dataframe thead th {\n",
       "        text-align: right;\n",
       "    }\n",
       "</style>\n",
       "<table border=\"1\" class=\"dataframe\">\n",
       "  <thead>\n",
       "    <tr style=\"text-align: right;\">\n",
       "      <th></th>\n",
       "      <th>author</th>\n",
       "      <th>title</th>\n",
       "      <th>published</th>\n",
       "      <th>barcode</th>\n",
       "    </tr>\n",
       "    <tr>\n",
       "      <th>bookid</th>\n",
       "      <th></th>\n",
       "      <th></th>\n",
       "      <th></th>\n",
       "      <th></th>\n",
       "    </tr>\n",
       "  </thead>\n",
       "  <tbody>\n",
       "    <tr>\n",
       "      <th>0</th>\n",
       "      <td>Matthew Newton</td>\n",
       "      <td>Become because woman your mind successful.</td>\n",
       "      <td>1998</td>\n",
       "      <td>97097242</td>\n",
       "    </tr>\n",
       "    <tr>\n",
       "      <th>1</th>\n",
       "      <td>Regina Small</td>\n",
       "      <td>Including society enter similar religious wear.</td>\n",
       "      <td>2010</td>\n",
       "      <td>54511903</td>\n",
       "    </tr>\n",
       "    <tr>\n",
       "      <th>2</th>\n",
       "      <td>Grace Moore</td>\n",
       "      <td>Either game inside range.</td>\n",
       "      <td>2000</td>\n",
       "      <td>06626242</td>\n",
       "    </tr>\n",
       "    <tr>\n",
       "      <th>3</th>\n",
       "      <td>Laura Sharp</td>\n",
       "      <td>History where senior.</td>\n",
       "      <td>2017</td>\n",
       "      <td>92932463</td>\n",
       "    </tr>\n",
       "    <tr>\n",
       "      <th>4</th>\n",
       "      <td>Amanda Salazar</td>\n",
       "      <td>Understand draw behavior woman.</td>\n",
       "      <td>1994</td>\n",
       "      <td>76678868</td>\n",
       "    </tr>\n",
       "  </tbody>\n",
       "</table>\n",
       "</div>"
      ],
      "text/plain": [
       "                author                                            title  \\\n",
       "bookid                                                                    \n",
       "0       Matthew Newton       Become because woman your mind successful.   \n",
       "1         Regina Small  Including society enter similar religious wear.   \n",
       "2          Grace Moore                        Either game inside range.   \n",
       "3          Laura Sharp                            History where senior.   \n",
       "4       Amanda Salazar                  Understand draw behavior woman.   \n",
       "\n",
       "       published   barcode  \n",
       "bookid                      \n",
       "0           1998  97097242  \n",
       "1           2010  54511903  \n",
       "2           2000  06626242  \n",
       "3           2017  92932463  \n",
       "4           1994  76678868  "
      ]
     },
     "execution_count": 7,
     "metadata": {},
     "output_type": "execute_result"
    }
   ],
   "source": [
    "# converting all datasets into dataframes\n",
    "books=pd.DataFrame(books).set_index('bookid')\n",
    "books.head()"
   ]
  },
  {
   "cell_type": "code",
   "execution_count": 8,
   "id": "1034d941-88c4-427c-a855-29c3bb2c6d65",
   "metadata": {},
   "outputs": [
    {
     "data": {
      "text/html": [
       "<div>\n",
       "<style scoped>\n",
       "    .dataframe tbody tr th:only-of-type {\n",
       "        vertical-align: middle;\n",
       "    }\n",
       "\n",
       "    .dataframe tbody tr th {\n",
       "        vertical-align: top;\n",
       "    }\n",
       "\n",
       "    .dataframe thead th {\n",
       "        text-align: right;\n",
       "    }\n",
       "</style>\n",
       "<table border=\"1\" class=\"dataframe\">\n",
       "  <thead>\n",
       "    <tr style=\"text-align: right;\">\n",
       "      <th></th>\n",
       "      <th>first_name</th>\n",
       "      <th>last_name</th>\n",
       "      <th>email</th>\n",
       "    </tr>\n",
       "    <tr>\n",
       "      <th>patronid</th>\n",
       "      <th></th>\n",
       "      <th></th>\n",
       "      <th></th>\n",
       "    </tr>\n",
       "  </thead>\n",
       "  <tbody>\n",
       "    <tr>\n",
       "      <th>0</th>\n",
       "      <td>Stephanie</td>\n",
       "      <td>Blanchard</td>\n",
       "      <td>jhowell@example.net</td>\n",
       "    </tr>\n",
       "    <tr>\n",
       "      <th>1</th>\n",
       "      <td>Anthony</td>\n",
       "      <td>Le</td>\n",
       "      <td>evan67@example.com</td>\n",
       "    </tr>\n",
       "    <tr>\n",
       "      <th>2</th>\n",
       "      <td>Sara</td>\n",
       "      <td>Evans</td>\n",
       "      <td>jill31@example.com</td>\n",
       "    </tr>\n",
       "    <tr>\n",
       "      <th>3</th>\n",
       "      <td>Karen</td>\n",
       "      <td>Graves</td>\n",
       "      <td>cherylmcdaniel@example.org</td>\n",
       "    </tr>\n",
       "    <tr>\n",
       "      <th>4</th>\n",
       "      <td>Nathan</td>\n",
       "      <td>Roach</td>\n",
       "      <td>lisa08@example.org</td>\n",
       "    </tr>\n",
       "  </tbody>\n",
       "</table>\n",
       "</div>"
      ],
      "text/plain": [
       "         first_name  last_name                       email\n",
       "patronid                                                  \n",
       "0         Stephanie  Blanchard         jhowell@example.net\n",
       "1           Anthony         Le          evan67@example.com\n",
       "2              Sara      Evans          jill31@example.com\n",
       "3             Karen     Graves  cherylmcdaniel@example.org\n",
       "4            Nathan      Roach          lisa08@example.org"
      ]
     },
     "execution_count": 8,
     "metadata": {},
     "output_type": "execute_result"
    }
   ],
   "source": [
    "patrons=pd.DataFrame(patrons).set_index('patronid')\n",
    "patrons.head()"
   ]
  },
  {
   "cell_type": "code",
   "execution_count": 9,
   "id": "2efefa86-43e6-4992-bebf-044196bce189",
   "metadata": {},
   "outputs": [
    {
     "data": {
      "text/html": [
       "<div>\n",
       "<style scoped>\n",
       "    .dataframe tbody tr th:only-of-type {\n",
       "        vertical-align: middle;\n",
       "    }\n",
       "\n",
       "    .dataframe tbody tr th {\n",
       "        vertical-align: top;\n",
       "    }\n",
       "\n",
       "    .dataframe thead th {\n",
       "        text-align: right;\n",
       "    }\n",
       "</style>\n",
       "<table border=\"1\" class=\"dataframe\">\n",
       "  <thead>\n",
       "    <tr style=\"text-align: right;\">\n",
       "      <th></th>\n",
       "      <th>bookid</th>\n",
       "      <th>patronid</th>\n",
       "      <th>loandate</th>\n",
       "      <th>duedate</th>\n",
       "      <th>returndate</th>\n",
       "    </tr>\n",
       "    <tr>\n",
       "      <th>loanid</th>\n",
       "      <th></th>\n",
       "      <th></th>\n",
       "      <th></th>\n",
       "      <th></th>\n",
       "      <th></th>\n",
       "    </tr>\n",
       "  </thead>\n",
       "  <tbody>\n",
       "    <tr>\n",
       "      <th>0</th>\n",
       "      <td>0</td>\n",
       "      <td>0</td>\n",
       "      <td>2022-01-11</td>\n",
       "      <td>2021-11-16</td>\n",
       "      <td>2022-06-02</td>\n",
       "    </tr>\n",
       "    <tr>\n",
       "      <th>1</th>\n",
       "      <td>1</td>\n",
       "      <td>1</td>\n",
       "      <td>2023-09-27</td>\n",
       "      <td>2020-02-23</td>\n",
       "      <td>2022-08-27</td>\n",
       "    </tr>\n",
       "    <tr>\n",
       "      <th>2</th>\n",
       "      <td>2</td>\n",
       "      <td>2</td>\n",
       "      <td>2022-09-26</td>\n",
       "      <td>2022-02-28</td>\n",
       "      <td>2023-01-04</td>\n",
       "    </tr>\n",
       "    <tr>\n",
       "      <th>3</th>\n",
       "      <td>3</td>\n",
       "      <td>3</td>\n",
       "      <td>2021-02-25</td>\n",
       "      <td>2020-01-30</td>\n",
       "      <td>2022-07-20</td>\n",
       "    </tr>\n",
       "    <tr>\n",
       "      <th>4</th>\n",
       "      <td>4</td>\n",
       "      <td>4</td>\n",
       "      <td>2020-10-03</td>\n",
       "      <td>2021-07-09</td>\n",
       "      <td>2020-07-27</td>\n",
       "    </tr>\n",
       "  </tbody>\n",
       "</table>\n",
       "</div>"
      ],
      "text/plain": [
       "        bookid  patronid    loandate     duedate  returndate\n",
       "loanid                                                      \n",
       "0            0         0  2022-01-11  2021-11-16  2022-06-02\n",
       "1            1         1  2023-09-27  2020-02-23  2022-08-27\n",
       "2            2         2  2022-09-26  2022-02-28  2023-01-04\n",
       "3            3         3  2021-02-25  2020-01-30  2022-07-20\n",
       "4            4         4  2020-10-03  2021-07-09  2020-07-27"
      ]
     },
     "execution_count": 9,
     "metadata": {},
     "output_type": "execute_result"
    }
   ],
   "source": [
    "loans = pd.DataFrame(loans).set_index('loanid')\n",
    "loans.head()"
   ]
  },
  {
   "cell_type": "code",
   "execution_count": 10,
   "id": "8f081221-3dbe-4288-8bb1-d8a8888e59e6",
   "metadata": {},
   "outputs": [],
   "source": [
    "loans['duedate']= pd.to_datetime(loans.duedate)\n",
    "loans['returndate']=pd.to_datetime(loans.returndate)\n",
    "loans['loandate']=pd.to_datetime(loans.loandate)"
   ]
  },
  {
   "cell_type": "code",
   "execution_count": 11,
   "id": "a6987730-9192-4406-896f-1e65c2fd06d7",
   "metadata": {},
   "outputs": [
    {
     "data": {
      "text/html": [
       "<div>\n",
       "<style scoped>\n",
       "    .dataframe tbody tr th:only-of-type {\n",
       "        vertical-align: middle;\n",
       "    }\n",
       "\n",
       "    .dataframe tbody tr th {\n",
       "        vertical-align: top;\n",
       "    }\n",
       "\n",
       "    .dataframe thead th {\n",
       "        text-align: right;\n",
       "    }\n",
       "</style>\n",
       "<table border=\"1\" class=\"dataframe\">\n",
       "  <thead>\n",
       "    <tr style=\"text-align: right;\">\n",
       "      <th></th>\n",
       "      <th>bookid</th>\n",
       "      <th>patronid</th>\n",
       "      <th>loandate</th>\n",
       "      <th>duedate</th>\n",
       "      <th>returndate</th>\n",
       "    </tr>\n",
       "    <tr>\n",
       "      <th>loanid</th>\n",
       "      <th></th>\n",
       "      <th></th>\n",
       "      <th></th>\n",
       "      <th></th>\n",
       "      <th></th>\n",
       "    </tr>\n",
       "  </thead>\n",
       "  <tbody>\n",
       "    <tr>\n",
       "      <th>0</th>\n",
       "      <td>0</td>\n",
       "      <td>0</td>\n",
       "      <td>2022-01-11</td>\n",
       "      <td>2021-11-16</td>\n",
       "      <td>2022-06-02</td>\n",
       "    </tr>\n",
       "    <tr>\n",
       "      <th>1</th>\n",
       "      <td>1</td>\n",
       "      <td>1</td>\n",
       "      <td>2023-09-27</td>\n",
       "      <td>2020-02-23</td>\n",
       "      <td>2022-08-27</td>\n",
       "    </tr>\n",
       "    <tr>\n",
       "      <th>2</th>\n",
       "      <td>2</td>\n",
       "      <td>2</td>\n",
       "      <td>2022-09-26</td>\n",
       "      <td>2022-02-28</td>\n",
       "      <td>2023-01-04</td>\n",
       "    </tr>\n",
       "    <tr>\n",
       "      <th>3</th>\n",
       "      <td>3</td>\n",
       "      <td>3</td>\n",
       "      <td>2021-02-25</td>\n",
       "      <td>2020-01-30</td>\n",
       "      <td>2022-07-20</td>\n",
       "    </tr>\n",
       "    <tr>\n",
       "      <th>4</th>\n",
       "      <td>4</td>\n",
       "      <td>4</td>\n",
       "      <td>2020-10-03</td>\n",
       "      <td>2021-07-09</td>\n",
       "      <td>2020-07-27</td>\n",
       "    </tr>\n",
       "  </tbody>\n",
       "</table>\n",
       "</div>"
      ],
      "text/plain": [
       "        bookid  patronid   loandate    duedate returndate\n",
       "loanid                                                   \n",
       "0            0         0 2022-01-11 2021-11-16 2022-06-02\n",
       "1            1         1 2023-09-27 2020-02-23 2022-08-27\n",
       "2            2         2 2022-09-26 2022-02-28 2023-01-04\n",
       "3            3         3 2021-02-25 2020-01-30 2022-07-20\n",
       "4            4         4 2020-10-03 2021-07-09 2020-07-27"
      ]
     },
     "execution_count": 11,
     "metadata": {},
     "output_type": "execute_result"
    }
   ],
   "source": [
    "loans.head()"
   ]
  },
  {
   "cell_type": "code",
   "execution_count": 12,
   "id": "bb402b92-1b23-47c3-997d-84731b14791b",
   "metadata": {},
   "outputs": [
    {
     "name": "stdout",
     "output_type": "stream",
     "text": [
      "<class 'pandas.core.frame.DataFrame'>\n",
      "Index: 3000 entries, 0 to 2999\n",
      "Data columns (total 5 columns):\n",
      " #   Column      Non-Null Count  Dtype         \n",
      "---  ------      --------------  -----         \n",
      " 0   bookid      3000 non-null   int64         \n",
      " 1   patronid    3000 non-null   int64         \n",
      " 2   loandate    3000 non-null   datetime64[ns]\n",
      " 3   duedate     3000 non-null   datetime64[ns]\n",
      " 4   returndate  3000 non-null   datetime64[ns]\n",
      "dtypes: datetime64[ns](3), int64(2)\n",
      "memory usage: 140.6 KB\n"
     ]
    }
   ],
   "source": [
    "loans.info()"
   ]
  },
  {
   "cell_type": "code",
   "execution_count": 13,
   "id": "04107b71-ea93-47bd-8cd7-c18d07905a97",
   "metadata": {},
   "outputs": [],
   "source": [
    "# shuffling the bookid and the patronid\n",
    "loans['bookid']=np.random.randint(1,3001,size=3000)\n",
    "loans['patronid']=np.random.randint(1,3001,size=3000)"
   ]
  },
  {
   "cell_type": "code",
   "execution_count": 14,
   "id": "da9e3f69-cf6f-4b19-b0e7-a73a737b2c42",
   "metadata": {},
   "outputs": [
    {
     "data": {
      "text/html": [
       "<div>\n",
       "<style scoped>\n",
       "    .dataframe tbody tr th:only-of-type {\n",
       "        vertical-align: middle;\n",
       "    }\n",
       "\n",
       "    .dataframe tbody tr th {\n",
       "        vertical-align: top;\n",
       "    }\n",
       "\n",
       "    .dataframe thead th {\n",
       "        text-align: right;\n",
       "    }\n",
       "</style>\n",
       "<table border=\"1\" class=\"dataframe\">\n",
       "  <thead>\n",
       "    <tr style=\"text-align: right;\">\n",
       "      <th></th>\n",
       "      <th>bookid</th>\n",
       "      <th>patronid</th>\n",
       "      <th>loandate</th>\n",
       "      <th>duedate</th>\n",
       "      <th>returndate</th>\n",
       "    </tr>\n",
       "    <tr>\n",
       "      <th>loanid</th>\n",
       "      <th></th>\n",
       "      <th></th>\n",
       "      <th></th>\n",
       "      <th></th>\n",
       "      <th></th>\n",
       "    </tr>\n",
       "  </thead>\n",
       "  <tbody>\n",
       "    <tr>\n",
       "      <th>0</th>\n",
       "      <td>744</td>\n",
       "      <td>236</td>\n",
       "      <td>2022-01-11</td>\n",
       "      <td>2021-11-16</td>\n",
       "      <td>2022-06-02</td>\n",
       "    </tr>\n",
       "    <tr>\n",
       "      <th>1</th>\n",
       "      <td>1858</td>\n",
       "      <td>485</td>\n",
       "      <td>2023-09-27</td>\n",
       "      <td>2020-02-23</td>\n",
       "      <td>2022-08-27</td>\n",
       "    </tr>\n",
       "    <tr>\n",
       "      <th>2</th>\n",
       "      <td>312</td>\n",
       "      <td>1098</td>\n",
       "      <td>2022-09-26</td>\n",
       "      <td>2022-02-28</td>\n",
       "      <td>2023-01-04</td>\n",
       "    </tr>\n",
       "    <tr>\n",
       "      <th>3</th>\n",
       "      <td>2270</td>\n",
       "      <td>2581</td>\n",
       "      <td>2021-02-25</td>\n",
       "      <td>2020-01-30</td>\n",
       "      <td>2022-07-20</td>\n",
       "    </tr>\n",
       "    <tr>\n",
       "      <th>4</th>\n",
       "      <td>1461</td>\n",
       "      <td>1354</td>\n",
       "      <td>2020-10-03</td>\n",
       "      <td>2021-07-09</td>\n",
       "      <td>2020-07-27</td>\n",
       "    </tr>\n",
       "  </tbody>\n",
       "</table>\n",
       "</div>"
      ],
      "text/plain": [
       "        bookid  patronid   loandate    duedate returndate\n",
       "loanid                                                   \n",
       "0          744       236 2022-01-11 2021-11-16 2022-06-02\n",
       "1         1858       485 2023-09-27 2020-02-23 2022-08-27\n",
       "2          312      1098 2022-09-26 2022-02-28 2023-01-04\n",
       "3         2270      2581 2021-02-25 2020-01-30 2022-07-20\n",
       "4         1461      1354 2020-10-03 2021-07-09 2020-07-27"
      ]
     },
     "execution_count": 14,
     "metadata": {},
     "output_type": "execute_result"
    }
   ],
   "source": [
    "loans.head()"
   ]
  },
  {
   "cell_type": "code",
   "execution_count": 15,
   "id": "34e2c44a-8182-42e3-b3af-abb6c37e227b",
   "metadata": {},
   "outputs": [],
   "source": [
    "# adding 15 days to all the loandate to recreate a duedate\n",
    "loans['duedate']= loans['loandate']+ pd.Timedelta(days=5)"
   ]
  },
  {
   "cell_type": "code",
   "execution_count": 16,
   "id": "1b3181df-aa64-4af6-91ff-cbaf5086a809",
   "metadata": {},
   "outputs": [],
   "source": [
    "# recreating returndate, with the returndate randomised\n",
    "loans['returndate']= loans['loandate'].apply(lambda x:x + pd.Timedelta(np.random.randint(20,40)))"
   ]
  },
  {
   "cell_type": "code",
   "execution_count": 17,
   "id": "095dc80c-9ec9-420f-8c3e-395f39959bcd",
   "metadata": {},
   "outputs": [],
   "source": [
    "mask=np.random.choice([True, False],size=loans.shape[0],p=[.8,.2])\n",
    "loans['returndate']=loans.loc[mask, 'returndate']"
   ]
  },
  {
   "cell_type": "code",
   "execution_count": 18,
   "id": "b86400f0-e1cb-4fb8-8e4a-9c2bea87a0fc",
   "metadata": {},
   "outputs": [
    {
     "data": {
      "text/html": [
       "<div>\n",
       "<style scoped>\n",
       "    .dataframe tbody tr th:only-of-type {\n",
       "        vertical-align: middle;\n",
       "    }\n",
       "\n",
       "    .dataframe tbody tr th {\n",
       "        vertical-align: top;\n",
       "    }\n",
       "\n",
       "    .dataframe thead th {\n",
       "        text-align: right;\n",
       "    }\n",
       "</style>\n",
       "<table border=\"1\" class=\"dataframe\">\n",
       "  <thead>\n",
       "    <tr style=\"text-align: right;\">\n",
       "      <th></th>\n",
       "      <th>bookid</th>\n",
       "      <th>patronid</th>\n",
       "      <th>loandate</th>\n",
       "      <th>duedate</th>\n",
       "      <th>returndate</th>\n",
       "    </tr>\n",
       "    <tr>\n",
       "      <th>loanid</th>\n",
       "      <th></th>\n",
       "      <th></th>\n",
       "      <th></th>\n",
       "      <th></th>\n",
       "      <th></th>\n",
       "    </tr>\n",
       "  </thead>\n",
       "  <tbody>\n",
       "    <tr>\n",
       "      <th>2931</th>\n",
       "      <td>662</td>\n",
       "      <td>2373</td>\n",
       "      <td>2022-04-14</td>\n",
       "      <td>2022-04-19</td>\n",
       "      <td>2022-04-14 00:00:00.000000037</td>\n",
       "    </tr>\n",
       "    <tr>\n",
       "      <th>2265</th>\n",
       "      <td>2237</td>\n",
       "      <td>315</td>\n",
       "      <td>2021-01-01</td>\n",
       "      <td>2021-01-06</td>\n",
       "      <td>2021-01-01 00:00:00.000000021</td>\n",
       "    </tr>\n",
       "    <tr>\n",
       "      <th>1512</th>\n",
       "      <td>2581</td>\n",
       "      <td>161</td>\n",
       "      <td>2020-11-22</td>\n",
       "      <td>2020-11-27</td>\n",
       "      <td>2020-11-22 00:00:00.000000034</td>\n",
       "    </tr>\n",
       "    <tr>\n",
       "      <th>1744</th>\n",
       "      <td>530</td>\n",
       "      <td>2227</td>\n",
       "      <td>2021-09-28</td>\n",
       "      <td>2021-10-03</td>\n",
       "      <td>2021-09-28 00:00:00.000000033</td>\n",
       "    </tr>\n",
       "    <tr>\n",
       "      <th>113</th>\n",
       "      <td>2617</td>\n",
       "      <td>378</td>\n",
       "      <td>2021-01-15</td>\n",
       "      <td>2021-01-20</td>\n",
       "      <td>2021-01-15 00:00:00.000000024</td>\n",
       "    </tr>\n",
       "    <tr>\n",
       "      <th>2497</th>\n",
       "      <td>1179</td>\n",
       "      <td>1819</td>\n",
       "      <td>2021-08-07</td>\n",
       "      <td>2021-08-12</td>\n",
       "      <td>2021-08-07 00:00:00.000000035</td>\n",
       "    </tr>\n",
       "    <tr>\n",
       "      <th>482</th>\n",
       "      <td>307</td>\n",
       "      <td>1698</td>\n",
       "      <td>2021-12-13</td>\n",
       "      <td>2021-12-18</td>\n",
       "      <td>2021-12-13 00:00:00.000000025</td>\n",
       "    </tr>\n",
       "    <tr>\n",
       "      <th>2037</th>\n",
       "      <td>1124</td>\n",
       "      <td>2356</td>\n",
       "      <td>2023-07-23</td>\n",
       "      <td>2023-07-28</td>\n",
       "      <td>2023-07-23 00:00:00.000000039</td>\n",
       "    </tr>\n",
       "    <tr>\n",
       "      <th>2465</th>\n",
       "      <td>2028</td>\n",
       "      <td>2178</td>\n",
       "      <td>2023-07-24</td>\n",
       "      <td>2023-07-29</td>\n",
       "      <td>2023-07-24 00:00:00.000000028</td>\n",
       "    </tr>\n",
       "    <tr>\n",
       "      <th>449</th>\n",
       "      <td>974</td>\n",
       "      <td>1007</td>\n",
       "      <td>2021-12-05</td>\n",
       "      <td>2021-12-10</td>\n",
       "      <td>NaT</td>\n",
       "    </tr>\n",
       "  </tbody>\n",
       "</table>\n",
       "</div>"
      ],
      "text/plain": [
       "        bookid  patronid   loandate    duedate                    returndate\n",
       "loanid                                                                      \n",
       "2931       662      2373 2022-04-14 2022-04-19 2022-04-14 00:00:00.000000037\n",
       "2265      2237       315 2021-01-01 2021-01-06 2021-01-01 00:00:00.000000021\n",
       "1512      2581       161 2020-11-22 2020-11-27 2020-11-22 00:00:00.000000034\n",
       "1744       530      2227 2021-09-28 2021-10-03 2021-09-28 00:00:00.000000033\n",
       "113       2617       378 2021-01-15 2021-01-20 2021-01-15 00:00:00.000000024\n",
       "2497      1179      1819 2021-08-07 2021-08-12 2021-08-07 00:00:00.000000035\n",
       "482        307      1698 2021-12-13 2021-12-18 2021-12-13 00:00:00.000000025\n",
       "2037      1124      2356 2023-07-23 2023-07-28 2023-07-23 00:00:00.000000039\n",
       "2465      2028      2178 2023-07-24 2023-07-29 2023-07-24 00:00:00.000000028\n",
       "449        974      1007 2021-12-05 2021-12-10                           NaT"
      ]
     },
     "execution_count": 18,
     "metadata": {},
     "output_type": "execute_result"
    }
   ],
   "source": [
    "loans.sample(10)"
   ]
  },
  {
   "cell_type": "code",
   "execution_count": 19,
   "id": "0ca6565c-0ecc-4c1c-9ea1-4b940267410e",
   "metadata": {},
   "outputs": [],
   "source": [
    "# retrieving the value of the environment 'username' and 'password'\n",
    "db_user=os.environ.get('username')\n",
    "db_password=os.environ.get('password')"
   ]
  },
  {
   "cell_type": "code",
   "execution_count": 20,
   "id": "3567d6c1-b781-4179-9685-19f505daf19f",
   "metadata": {},
   "outputs": [],
   "source": [
    "# setting up connection to be database\n",
    "connection= cn.connect(\n",
    "                      host='localhost',\n",
    "                      user='root',\n",
    "                      password='schrodinger',database='library')"
   ]
  },
  {
   "cell_type": "code",
   "execution_count": 21,
   "id": "4b30e991-5055-4aad-beb1-54b649287fa1",
   "metadata": {},
   "outputs": [],
   "source": [
    "# creating a cursor object that will write queries to the database\n",
    "cur= connection.cursor()"
   ]
  },
  {
   "cell_type": "code",
   "execution_count": 22,
   "id": "5eba7887-bfe2-4d4d-82e0-e999c7fef105",
   "metadata": {},
   "outputs": [],
   "source": [
    "# dropping any database with the same name to what i am creating\n",
    "cur.execute('DROP DATABASE IF EXISTS library')"
   ]
  },
  {
   "cell_type": "code",
   "execution_count": 23,
   "id": "c23b2d7f-d643-4d22-ab95-ba8b8a6d7daf",
   "metadata": {},
   "outputs": [],
   "source": [
    "# creating database\n",
    "cur.execute('CREATE DATABASE library')"
   ]
  },
  {
   "cell_type": "code",
   "execution_count": 24,
   "id": "4d0defa1-76ed-4483-9ecd-ecb60ec5682b",
   "metadata": {},
   "outputs": [],
   "source": [
    "# activate the use database\n",
    "cur.execute('USE library')"
   ]
  },
  {
   "cell_type": "code",
   "execution_count": 25,
   "id": "d47e8edc-556c-408e-83c4-a92d2507338d",
   "metadata": {},
   "outputs": [],
   "source": [
    "# declaring a syntax that holds the tables\n",
    "query=\"\"\"\n",
    "CREATE TABLE IF NOT EXISTS books(bookid INT auto_increment PRIMARY KEY,\n",
    "author VARCHAR(250) NOT NULL,\n",
    "title VARCHAR(250) NOT NULL,\n",
    "published INT NOT NULL,\n",
    "barcode VARCHAR(250) NOT NULL\n",
    ");\n",
    "\n",
    "\n",
    "\"\"\""
   ]
  },
  {
   "cell_type": "code",
   "execution_count": 26,
   "id": "4a20e37b-1105-4c40-acab-aba02105d4c4",
   "metadata": {},
   "outputs": [],
   "source": [
    "query1=\"\"\"\n",
    "CREATE TABLE IF NOT EXISTS patrons(patronid INT auto_increment PRIMARY KEY,\n",
    "first_name VARCHAR(250) NOT NULL,\n",
    "last_name VARCHAR(250) NOT NULL,\n",
    "email VARCHAR(250) NOT NULL\n",
    ");\n",
    "\n",
    "\n",
    "\"\"\""
   ]
  },
  {
   "cell_type": "code",
   "execution_count": 27,
   "id": "156505db-08f5-4d16-8542-6f24a9ff27fb",
   "metadata": {},
   "outputs": [],
   "source": [
    "query2=\"\"\"\n",
    "CREATE TABLE IF NOT EXISTS loans(loanid INT auto_increment PRIMARY KEY,\n",
    "bookid INT NOT NULL,\n",
    "patronid INT NOT NULL,\n",
    "loandate DATE NOT NULL,\n",
    "duedate DATE NOT NULL,\n",
    "returndate DATE,\n",
    "FOREIGN KEY(bookid) REFERENCES books(bookid),\n",
    "FOREIGN KEY (patronid) REFERENCES patrons(patronid)\n",
    ");\n",
    "\n",
    "\n",
    "\"\"\""
   ]
  },
  {
   "cell_type": "code",
   "execution_count": 28,
   "id": "b281cfc8-8d2d-4739-af59-1fca61f5b6f2",
   "metadata": {},
   "outputs": [],
   "source": [
    "# passing the query\n",
    "cur.execute(query)"
   ]
  },
  {
   "cell_type": "code",
   "execution_count": 29,
   "id": "a51a6c4e-f164-4c41-bc5c-63bf59c38fe4",
   "metadata": {},
   "outputs": [],
   "source": [
    "cur.execute(query1)"
   ]
  },
  {
   "cell_type": "code",
   "execution_count": 30,
   "id": "29037d7b-12a0-4823-8e8b-5057afc1eba9",
   "metadata": {},
   "outputs": [],
   "source": [
    "cur.execute(query2)"
   ]
  },
  {
   "cell_type": "code",
   "execution_count": 31,
   "id": "f13d0dcd-8f5b-47aa-9be3-f08c4844d943",
   "metadata": {},
   "outputs": [],
   "source": [
    "# creating an insert statement to insert tablename and values in the respective tables\n",
    "def insert_statement_generator(df,tablename):\n",
    "    for index, row in df.iterrows():\n",
    "        values=[]\n",
    "        for value in row:\n",
    "            if pd.isna(value):\n",
    "                value='NULL'\n",
    "            else:\n",
    "                value= f'\"{value}\"'\n",
    "            values.append(value)\n",
    "        column_name = \",\".join(df.columns)\n",
    "        change_value= \",\".join(f\"{val}\" for val in values)\n",
    "        insert_statement= f\"INSERT INTO {tablename} ({column_name}) VALUES ({change_value})\"\n",
    "        yield insert_statement     "
   ]
  },
  {
   "cell_type": "code",
   "execution_count": 32,
   "id": "867ad9a2-f89c-469d-84fc-1e48a28f2ded",
   "metadata": {},
   "outputs": [],
   "source": [
    "bk=list(insert_statement_generator(books, 'books'))\n",
    "pt=list(insert_statement_generator(patrons, 'patrons'))\n",
    "ll=list(insert_statement_generator(loans, 'loans'))"
   ]
  },
  {
   "cell_type": "code",
   "execution_count": 33,
   "id": "6e6fe60a-3148-4024-931f-1e24cfa85375",
   "metadata": {},
   "outputs": [],
   "source": [
    "connection.commit()"
   ]
  },
  {
   "cell_type": "code",
   "execution_count": 34,
   "id": "92e310f9-852e-4c3c-adde-39c885d2520a",
   "metadata": {},
   "outputs": [],
   "source": [
    "for statement in bk:\n",
    "    cur.execute(statement)"
   ]
  },
  {
   "cell_type": "code",
   "execution_count": 35,
   "id": "31d15a01-6fbd-4ae9-9b2d-3f930185141c",
   "metadata": {},
   "outputs": [],
   "source": [
    "for statement in pt:\n",
    "    cur.execute(statement)"
   ]
  },
  {
   "cell_type": "code",
   "execution_count": 36,
   "id": "8cb338f7-0235-43ac-8153-e6e9a043fc6f",
   "metadata": {},
   "outputs": [],
   "source": [
    "for statement in ll:\n",
    "    cur.execute(statement)"
   ]
  },
  {
   "cell_type": "code",
   "execution_count": 37,
   "id": "24a572f3-ab71-4305-b1a2-2070f85d6d8b",
   "metadata": {},
   "outputs": [],
   "source": [
    "# Saving all your have done it to take effect in the database\n",
    "connection.commit()"
   ]
  },
  {
   "cell_type": "markdown",
   "id": "d98d3f43-c777-4fb1-9533-5a51306f79ab",
   "metadata": {},
   "source": [
    "* What are the most popular books based on the number of loans?\n",
    "* What are the books that have been published in a specific year?\n",
    "* What are the books with a specific author?\n",
    "* What is the average loan duration for a book?\n",
    "* What are the most popular books based on the number of loans?\n",
    "* How many books have been returned late?\n",
    "* What is the average number of books loaned by each patron?\n",
    "* Who are the patrons who have taken the most number of loans?\n",
    "* What is the distribution of patrons based on their email domain?"
   ]
  },
  {
   "cell_type": "code",
   "execution_count": 38,
   "id": "2d151b10-e882-4ebd-b2a8-4c2f920f88b9",
   "metadata": {},
   "outputs": [],
   "source": [
    "# What are the most popular books based on the number of loans\n",
    "query3 = \"\"\"\n",
    "SELECT title, COUNT(*) as loan_count\n",
    "FROM books\n",
    "JOIN loans \n",
    "ON books.bookid = loans.bookid\n",
    "GROUP BY title\n",
    "ORDER BY loan_count DESC\n",
    "LIMIT 5;\n",
    "\"\"\""
   ]
  },
  {
   "cell_type": "markdown",
   "id": "ac0ad1b7-ea14-48e8-8261-e2b2f7543ea2",
   "metadata": {},
   "source": [
    "* 1. What are the most popular books based on the number of loans?"
   ]
  },
  {
   "cell_type": "code",
   "execution_count": 39,
   "id": "924892aa-a64a-446a-bbef-c8a0f68451d1",
   "metadata": {},
   "outputs": [
    {
     "name": "stderr",
     "output_type": "stream",
     "text": [
      "/var/folders/pn/727r1z554zz3k1s6xns85tpr0000gn/T/ipykernel_99411/684267711.py:1: UserWarning: pandas only supports SQLAlchemy connectable (engine/connection) or database string URI or sqlite3 DBAPI2 connection. Other DBAPI2 objects are not tested. Please consider using SQLAlchemy.\n",
      "  ques1= pd.read_sql(query3, connection)\n"
     ]
    }
   ],
   "source": [
    "ques1= pd.read_sql(query3, connection)"
   ]
  },
  {
   "cell_type": "code",
   "execution_count": 40,
   "id": "63a91c21-e2e5-4d86-a734-c75f10512d0c",
   "metadata": {},
   "outputs": [
    {
     "data": {
      "text/html": [
       "<div>\n",
       "<style scoped>\n",
       "    .dataframe tbody tr th:only-of-type {\n",
       "        vertical-align: middle;\n",
       "    }\n",
       "\n",
       "    .dataframe tbody tr th {\n",
       "        vertical-align: top;\n",
       "    }\n",
       "\n",
       "    .dataframe thead th {\n",
       "        text-align: right;\n",
       "    }\n",
       "</style>\n",
       "<table border=\"1\" class=\"dataframe\">\n",
       "  <thead>\n",
       "    <tr style=\"text-align: right;\">\n",
       "      <th></th>\n",
       "      <th>title</th>\n",
       "      <th>loan_count</th>\n",
       "    </tr>\n",
       "  </thead>\n",
       "  <tbody>\n",
       "    <tr>\n",
       "      <th>0</th>\n",
       "      <td>Decide tend happy think.</td>\n",
       "      <td>6</td>\n",
       "    </tr>\n",
       "    <tr>\n",
       "      <th>1</th>\n",
       "      <td>Person put to capital simple leg give.</td>\n",
       "      <td>6</td>\n",
       "    </tr>\n",
       "    <tr>\n",
       "      <th>2</th>\n",
       "      <td>Myself represent catch answer.</td>\n",
       "      <td>5</td>\n",
       "    </tr>\n",
       "    <tr>\n",
       "      <th>3</th>\n",
       "      <td>Far put pressure.</td>\n",
       "      <td>5</td>\n",
       "    </tr>\n",
       "    <tr>\n",
       "      <th>4</th>\n",
       "      <td>Throw price plan political seek.</td>\n",
       "      <td>5</td>\n",
       "    </tr>\n",
       "  </tbody>\n",
       "</table>\n",
       "</div>"
      ],
      "text/plain": [
       "                                    title  loan_count\n",
       "0                Decide tend happy think.           6\n",
       "1  Person put to capital simple leg give.           6\n",
       "2          Myself represent catch answer.           5\n",
       "3                       Far put pressure.           5\n",
       "4        Throw price plan political seek.           5"
      ]
     },
     "execution_count": 40,
     "metadata": {},
     "output_type": "execute_result"
    }
   ],
   "source": [
    "ques1"
   ]
  },
  {
   "cell_type": "code",
   "execution_count": 41,
   "id": "c6dbe048-d7c8-4ee7-bf61-8a83db254ac0",
   "metadata": {},
   "outputs": [
    {
     "data": {
      "image/png": "[encoded data removed]",
      "text/plain": [
       "<Figure size 640x480 with 1 Axes>"
      ]
     },
     "metadata": {},
     "output_type": "display_data"
    }
   ],
   "source": [
    "sns.barplot(data=ques1, x= 'title', y= 'loan_count');\n",
    "plt.xticks(rotation=90);"
   ]
  },
  {
   "cell_type": "markdown",
   "id": "a0996308-a152-42d8-8530-87e03ae954a6",
   "metadata": {},
   "source": [
    "* 2. What are the books that have been published in each year?"
   ]
  },
  {
   "cell_type": "code",
   "execution_count": 42,
   "id": "2691eb2c-01fe-4d06-be9e-dd3f91222adf",
   "metadata": {},
   "outputs": [],
   "source": [
    "query4 = \"\"\"\n",
    "SELECT published, COUNT(*) AS book_count\n",
    "FROM books\n",
    "GROUP BY published\n",
    "ORDER BY book_count DESC\n",
    "LIMIT 10;\n",
    "\"\"\""
   ]
  },
  {
   "cell_type": "code",
   "execution_count": 43,
   "id": "2f5eb970-d3f6-482b-a3c3-7b6c859e80bc",
   "metadata": {},
   "outputs": [
    {
     "name": "stderr",
     "output_type": "stream",
     "text": [
      "/var/folders/pn/727r1z554zz3k1s6xns85tpr0000gn/T/ipykernel_99411/2235888147.py:1: UserWarning: pandas only supports SQLAlchemy connectable (engine/connection) or database string URI or sqlite3 DBAPI2 connection. Other DBAPI2 objects are not tested. Please consider using SQLAlchemy.\n",
      "  ques2= pd.read_sql(query4, connection)\n"
     ]
    }
   ],
   "source": [
    "ques2= pd.read_sql(query4, connection)"
   ]
  },
  {
   "cell_type": "code",
   "execution_count": 44,
   "id": "dbd0e3d0-2c6b-432c-8997-c778295a9e8d",
   "metadata": {},
   "outputs": [
    {
     "data": {
      "text/html": [
       "<div>\n",
       "<style scoped>\n",
       "    .dataframe tbody tr th:only-of-type {\n",
       "        vertical-align: middle;\n",
       "    }\n",
       "\n",
       "    .dataframe tbody tr th {\n",
       "        vertical-align: top;\n",
       "    }\n",
       "\n",
       "    .dataframe thead th {\n",
       "        text-align: right;\n",
       "    }\n",
       "</style>\n",
       "<table border=\"1\" class=\"dataframe\">\n",
       "  <thead>\n",
       "    <tr style=\"text-align: right;\">\n",
       "      <th></th>\n",
       "      <th>published</th>\n",
       "      <th>book_count</th>\n",
       "    </tr>\n",
       "  </thead>\n",
       "  <tbody>\n",
       "    <tr>\n",
       "      <th>0</th>\n",
       "      <td>1983</td>\n",
       "      <td>75</td>\n",
       "    </tr>\n",
       "    <tr>\n",
       "      <th>1</th>\n",
       "      <td>1992</td>\n",
       "      <td>70</td>\n",
       "    </tr>\n",
       "    <tr>\n",
       "      <th>2</th>\n",
       "      <td>1990</td>\n",
       "      <td>68</td>\n",
       "    </tr>\n",
       "    <tr>\n",
       "      <th>3</th>\n",
       "      <td>1998</td>\n",
       "      <td>67</td>\n",
       "    </tr>\n",
       "    <tr>\n",
       "      <th>4</th>\n",
       "      <td>2008</td>\n",
       "      <td>67</td>\n",
       "    </tr>\n",
       "    <tr>\n",
       "      <th>5</th>\n",
       "      <td>2016</td>\n",
       "      <td>66</td>\n",
       "    </tr>\n",
       "    <tr>\n",
       "      <th>6</th>\n",
       "      <td>1972</td>\n",
       "      <td>66</td>\n",
       "    </tr>\n",
       "    <tr>\n",
       "      <th>7</th>\n",
       "      <td>2023</td>\n",
       "      <td>62</td>\n",
       "    </tr>\n",
       "    <tr>\n",
       "      <th>8</th>\n",
       "      <td>1977</td>\n",
       "      <td>62</td>\n",
       "    </tr>\n",
       "    <tr>\n",
       "      <th>9</th>\n",
       "      <td>1976</td>\n",
       "      <td>62</td>\n",
       "    </tr>\n",
       "  </tbody>\n",
       "</table>\n",
       "</div>"
      ],
      "text/plain": [
       "   published  book_count\n",
       "0       1983          75\n",
       "1       1992          70\n",
       "2       1990          68\n",
       "3       1998          67\n",
       "4       2008          67\n",
       "5       2016          66\n",
       "6       1972          66\n",
       "7       2023          62\n",
       "8       1977          62\n",
       "9       1976          62"
      ]
     },
     "execution_count": 44,
     "metadata": {},
     "output_type": "execute_result"
    }
   ],
   "source": [
    "ques2"
   ]
  },
  {
   "cell_type": "code",
   "execution_count": 45,
   "id": "e5e30fc3-6db5-46af-ae41-6515119fa7ae",
   "metadata": {},
   "outputs": [
    {
     "data": {
      "image/png": "[encoded data removed]",
      "text/plain": [
       "<Figure size 640x480 with 1 Axes>"
      ]
     },
     "metadata": {},
     "output_type": "display_data"
    }
   ],
   "source": [
    "sns.barplot(data=ques2, x=ques2.published, y=ques2.book_count,color='g');"
   ]
  },
  {
   "cell_type": "markdown",
   "id": "270d34af-ea5b-46e7-bdcf-59cfbfcbe23c",
   "metadata": {},
   "source": [
    "* 4. What are the books with a specific author?"
   ]
  },
  {
   "cell_type": "code",
   "execution_count": 46,
   "id": "a3235075-4db1-4ea4-b197-fe573973487c",
   "metadata": {},
   "outputs": [],
   "source": [
    "query5=\"\"\" SELECT author, COUNT(*) AS book_count\n",
    "FROM books\n",
    "GROUP BY author\n",
    "ORDER BY book_count DESC\n",
    "LIMIT 10;\n",
    "\n",
    "\"\"\""
   ]
  },
  {
   "cell_type": "code",
   "execution_count": 47,
   "id": "2ed2a2b9-d3e5-407c-b76d-a2391e15b1ff",
   "metadata": {},
   "outputs": [
    {
     "name": "stderr",
     "output_type": "stream",
     "text": [
      "/var/folders/pn/727r1z554zz3k1s6xns85tpr0000gn/T/ipykernel_99411/3270129308.py:1: UserWarning: pandas only supports SQLAlchemy connectable (engine/connection) or database string URI or sqlite3 DBAPI2 connection. Other DBAPI2 objects are not tested. Please consider using SQLAlchemy.\n",
      "  ques4= pd.read_sql(query5, connection)\n"
     ]
    }
   ],
   "source": [
    "ques4= pd.read_sql(query5, connection)"
   ]
  },
  {
   "cell_type": "code",
   "execution_count": 48,
   "id": "401525ad-84f7-4b9c-b86a-99dc740fa34c",
   "metadata": {},
   "outputs": [
    {
     "data": {
      "text/html": [
       "<div>\n",
       "<style scoped>\n",
       "    .dataframe tbody tr th:only-of-type {\n",
       "        vertical-align: middle;\n",
       "    }\n",
       "\n",
       "    .dataframe tbody tr th {\n",
       "        vertical-align: top;\n",
       "    }\n",
       "\n",
       "    .dataframe thead th {\n",
       "        text-align: right;\n",
       "    }\n",
       "</style>\n",
       "<table border=\"1\" class=\"dataframe\">\n",
       "  <thead>\n",
       "    <tr style=\"text-align: right;\">\n",
       "      <th></th>\n",
       "      <th>author</th>\n",
       "      <th>book_count</th>\n",
       "    </tr>\n",
       "  </thead>\n",
       "  <tbody>\n",
       "    <tr>\n",
       "      <th>0</th>\n",
       "      <td>Sarah Phillips</td>\n",
       "      <td>3</td>\n",
       "    </tr>\n",
       "    <tr>\n",
       "      <th>1</th>\n",
       "      <td>Ashley Smith</td>\n",
       "      <td>3</td>\n",
       "    </tr>\n",
       "    <tr>\n",
       "      <th>2</th>\n",
       "      <td>Kimberly Jackson</td>\n",
       "      <td>3</td>\n",
       "    </tr>\n",
       "    <tr>\n",
       "      <th>3</th>\n",
       "      <td>John Lewis</td>\n",
       "      <td>3</td>\n",
       "    </tr>\n",
       "    <tr>\n",
       "      <th>4</th>\n",
       "      <td>Brenda Miller</td>\n",
       "      <td>2</td>\n",
       "    </tr>\n",
       "    <tr>\n",
       "      <th>5</th>\n",
       "      <td>Victoria Todd</td>\n",
       "      <td>2</td>\n",
       "    </tr>\n",
       "    <tr>\n",
       "      <th>6</th>\n",
       "      <td>Michael Rodriguez</td>\n",
       "      <td>2</td>\n",
       "    </tr>\n",
       "    <tr>\n",
       "      <th>7</th>\n",
       "      <td>Jeffrey Lee</td>\n",
       "      <td>2</td>\n",
       "    </tr>\n",
       "    <tr>\n",
       "      <th>8</th>\n",
       "      <td>Michael Jacobs</td>\n",
       "      <td>2</td>\n",
       "    </tr>\n",
       "    <tr>\n",
       "      <th>9</th>\n",
       "      <td>Jennifer Garcia</td>\n",
       "      <td>2</td>\n",
       "    </tr>\n",
       "  </tbody>\n",
       "</table>\n",
       "</div>"
      ],
      "text/plain": [
       "              author  book_count\n",
       "0     Sarah Phillips           3\n",
       "1       Ashley Smith           3\n",
       "2   Kimberly Jackson           3\n",
       "3         John Lewis           3\n",
       "4      Brenda Miller           2\n",
       "5      Victoria Todd           2\n",
       "6  Michael Rodriguez           2\n",
       "7        Jeffrey Lee           2\n",
       "8     Michael Jacobs           2\n",
       "9    Jennifer Garcia           2"
      ]
     },
     "execution_count": 48,
     "metadata": {},
     "output_type": "execute_result"
    }
   ],
   "source": [
    "ques4"
   ]
  },
  {
   "cell_type": "code",
   "execution_count": 49,
   "id": "55ff191c-0473-4149-bbcd-c70f71b9e345",
   "metadata": {},
   "outputs": [
    {
     "data": {
      "image/png": "[encoded data removed]",
      "text/plain": [
       "<Figure size 640x480 with 1 Axes>"
      ]
     },
     "metadata": {},
     "output_type": "display_data"
    }
   ],
   "source": [
    "sns.barplot(ques4, x= ques4.author, y=ques4.book_count)\n",
    "plt.xticks(rotation=90);"
   ]
  },
  {
   "cell_type": "markdown",
   "id": "fdb6a892-549d-4703-bb4a-292b567ef810",
   "metadata": {},
   "source": [
    "* 5. What is the average loan duration for a book?"
   ]
  },
  {
   "cell_type": "code",
   "execution_count": 50,
   "id": "e9708724-d5a9-4e8a-969a-cddcc2be7e60",
   "metadata": {},
   "outputs": [
    {
     "data": {
      "text/html": [
       "<div>\n",
       "<style scoped>\n",
       "    .dataframe tbody tr th:only-of-type {\n",
       "        vertical-align: middle;\n",
       "    }\n",
       "\n",
       "    .dataframe tbody tr th {\n",
       "        vertical-align: top;\n",
       "    }\n",
       "\n",
       "    .dataframe thead th {\n",
       "        text-align: right;\n",
       "    }\n",
       "</style>\n",
       "<table border=\"1\" class=\"dataframe\">\n",
       "  <thead>\n",
       "    <tr style=\"text-align: right;\">\n",
       "      <th></th>\n",
       "      <th>bookid</th>\n",
       "      <th>patronid</th>\n",
       "      <th>loandate</th>\n",
       "      <th>duedate</th>\n",
       "      <th>returndate</th>\n",
       "    </tr>\n",
       "    <tr>\n",
       "      <th>loanid</th>\n",
       "      <th></th>\n",
       "      <th></th>\n",
       "      <th></th>\n",
       "      <th></th>\n",
       "      <th></th>\n",
       "    </tr>\n",
       "  </thead>\n",
       "  <tbody>\n",
       "    <tr>\n",
       "      <th>0</th>\n",
       "      <td>744</td>\n",
       "      <td>236</td>\n",
       "      <td>2022-01-11</td>\n",
       "      <td>2022-01-16</td>\n",
       "      <td>2022-01-11 00:00:00.000000020</td>\n",
       "    </tr>\n",
       "    <tr>\n",
       "      <th>1</th>\n",
       "      <td>1858</td>\n",
       "      <td>485</td>\n",
       "      <td>2023-09-27</td>\n",
       "      <td>2023-10-02</td>\n",
       "      <td>2023-09-27 00:00:00.000000031</td>\n",
       "    </tr>\n",
       "    <tr>\n",
       "      <th>2</th>\n",
       "      <td>312</td>\n",
       "      <td>1098</td>\n",
       "      <td>2022-09-26</td>\n",
       "      <td>2022-10-01</td>\n",
       "      <td>2022-09-26 00:00:00.000000026</td>\n",
       "    </tr>\n",
       "    <tr>\n",
       "      <th>3</th>\n",
       "      <td>2270</td>\n",
       "      <td>2581</td>\n",
       "      <td>2021-02-25</td>\n",
       "      <td>2021-03-02</td>\n",
       "      <td>NaT</td>\n",
       "    </tr>\n",
       "    <tr>\n",
       "      <th>4</th>\n",
       "      <td>1461</td>\n",
       "      <td>1354</td>\n",
       "      <td>2020-10-03</td>\n",
       "      <td>2020-10-08</td>\n",
       "      <td>2020-10-03 00:00:00.000000027</td>\n",
       "    </tr>\n",
       "  </tbody>\n",
       "</table>\n",
       "</div>"
      ],
      "text/plain": [
       "        bookid  patronid   loandate    duedate                    returndate\n",
       "loanid                                                                      \n",
       "0          744       236 2022-01-11 2022-01-16 2022-01-11 00:00:00.000000020\n",
       "1         1858       485 2023-09-27 2023-10-02 2023-09-27 00:00:00.000000031\n",
       "2          312      1098 2022-09-26 2022-10-01 2022-09-26 00:00:00.000000026\n",
       "3         2270      2581 2021-02-25 2021-03-02                           NaT\n",
       "4         1461      1354 2020-10-03 2020-10-08 2020-10-03 00:00:00.000000027"
      ]
     },
     "execution_count": 50,
     "metadata": {},
     "output_type": "execute_result"
    }
   ],
   "source": [
    "loans.head()"
   ]
  },
  {
   "cell_type": "code",
   "execution_count": 51,
   "id": "8dfcbafc-6e1d-4e17-b4de-a8304ba8f735",
   "metadata": {},
   "outputs": [],
   "source": [
    "query6=\"\"\"SELECT AVG(DATEDIFF(loandate,duedate)) AS average_loan_duaration\n",
    "FROM loans;\n",
    "\"\"\""
   ]
  },
  {
   "cell_type": "code",
   "execution_count": 52,
   "id": "aa614587-f729-433c-ae1f-7674db4f1bee",
   "metadata": {},
   "outputs": [
    {
     "name": "stderr",
     "output_type": "stream",
     "text": [
      "/var/folders/pn/727r1z554zz3k1s6xns85tpr0000gn/T/ipykernel_99411/3006072809.py:1: UserWarning: pandas only supports SQLAlchemy connectable (engine/connection) or database string URI or sqlite3 DBAPI2 connection. Other DBAPI2 objects are not tested. Please consider using SQLAlchemy.\n",
      "  ques5= pd.read_sql(query6, connection)\n"
     ]
    }
   ],
   "source": [
    "ques5= pd.read_sql(query6, connection)"
   ]
  },
  {
   "cell_type": "code",
   "execution_count": 53,
   "id": "a177a0de-44ab-4b4d-b366-cf43ab110d66",
   "metadata": {},
   "outputs": [
    {
     "data": {
      "text/html": [
       "<div>\n",
       "<style scoped>\n",
       "    .dataframe tbody tr th:only-of-type {\n",
       "        vertical-align: middle;\n",
       "    }\n",
       "\n",
       "    .dataframe tbody tr th {\n",
       "        vertical-align: top;\n",
       "    }\n",
       "\n",
       "    .dataframe thead th {\n",
       "        text-align: right;\n",
       "    }\n",
       "</style>\n",
       "<table border=\"1\" class=\"dataframe\">\n",
       "  <thead>\n",
       "    <tr style=\"text-align: right;\">\n",
       "      <th></th>\n",
       "      <th>average_loan_duaration</th>\n",
       "    </tr>\n",
       "  </thead>\n",
       "  <tbody>\n",
       "    <tr>\n",
       "      <th>0</th>\n",
       "      <td>-5.0</td>\n",
       "    </tr>\n",
       "  </tbody>\n",
       "</table>\n",
       "</div>"
      ],
      "text/plain": [
       "   average_loan_duaration\n",
       "0                    -5.0"
      ]
     },
     "execution_count": 53,
     "metadata": {},
     "output_type": "execute_result"
    }
   ],
   "source": [
    "ques5"
   ]
  },
  {
   "cell_type": "markdown",
   "id": "c94c7a9a-0a15-4080-8c69-62cc9a518662",
   "metadata": {},
   "source": [
    "* 6. What are the most popular books based on the number of loans?"
   ]
  },
  {
   "cell_type": "code",
   "execution_count": 54,
   "id": "02a6c9b8-1ad8-4aa2-a9a8-2793b3036d7b",
   "metadata": {},
   "outputs": [
    {
     "data": {
      "text/html": [
       "<div>\n",
       "<style scoped>\n",
       "    .dataframe tbody tr th:only-of-type {\n",
       "        vertical-align: middle;\n",
       "    }\n",
       "\n",
       "    .dataframe tbody tr th {\n",
       "        vertical-align: top;\n",
       "    }\n",
       "\n",
       "    .dataframe thead th {\n",
       "        text-align: right;\n",
       "    }\n",
       "</style>\n",
       "<table border=\"1\" class=\"dataframe\">\n",
       "  <thead>\n",
       "    <tr style=\"text-align: right;\">\n",
       "      <th></th>\n",
       "      <th>bookid</th>\n",
       "      <th>patronid</th>\n",
       "      <th>loandate</th>\n",
       "      <th>duedate</th>\n",
       "      <th>returndate</th>\n",
       "    </tr>\n",
       "    <tr>\n",
       "      <th>loanid</th>\n",
       "      <th></th>\n",
       "      <th></th>\n",
       "      <th></th>\n",
       "      <th></th>\n",
       "      <th></th>\n",
       "    </tr>\n",
       "  </thead>\n",
       "  <tbody>\n",
       "    <tr>\n",
       "      <th>0</th>\n",
       "      <td>744</td>\n",
       "      <td>236</td>\n",
       "      <td>2022-01-11</td>\n",
       "      <td>2022-01-16</td>\n",
       "      <td>2022-01-11 00:00:00.000000020</td>\n",
       "    </tr>\n",
       "    <tr>\n",
       "      <th>1</th>\n",
       "      <td>1858</td>\n",
       "      <td>485</td>\n",
       "      <td>2023-09-27</td>\n",
       "      <td>2023-10-02</td>\n",
       "      <td>2023-09-27 00:00:00.000000031</td>\n",
       "    </tr>\n",
       "    <tr>\n",
       "      <th>2</th>\n",
       "      <td>312</td>\n",
       "      <td>1098</td>\n",
       "      <td>2022-09-26</td>\n",
       "      <td>2022-10-01</td>\n",
       "      <td>2022-09-26 00:00:00.000000026</td>\n",
       "    </tr>\n",
       "    <tr>\n",
       "      <th>3</th>\n",
       "      <td>2270</td>\n",
       "      <td>2581</td>\n",
       "      <td>2021-02-25</td>\n",
       "      <td>2021-03-02</td>\n",
       "      <td>NaT</td>\n",
       "    </tr>\n",
       "    <tr>\n",
       "      <th>4</th>\n",
       "      <td>1461</td>\n",
       "      <td>1354</td>\n",
       "      <td>2020-10-03</td>\n",
       "      <td>2020-10-08</td>\n",
       "      <td>2020-10-03 00:00:00.000000027</td>\n",
       "    </tr>\n",
       "  </tbody>\n",
       "</table>\n",
       "</div>"
      ],
      "text/plain": [
       "        bookid  patronid   loandate    duedate                    returndate\n",
       "loanid                                                                      \n",
       "0          744       236 2022-01-11 2022-01-16 2022-01-11 00:00:00.000000020\n",
       "1         1858       485 2023-09-27 2023-10-02 2023-09-27 00:00:00.000000031\n",
       "2          312      1098 2022-09-26 2022-10-01 2022-09-26 00:00:00.000000026\n",
       "3         2270      2581 2021-02-25 2021-03-02                           NaT\n",
       "4         1461      1354 2020-10-03 2020-10-08 2020-10-03 00:00:00.000000027"
      ]
     },
     "execution_count": 54,
     "metadata": {},
     "output_type": "execute_result"
    }
   ],
   "source": [
    "loans.head()"
   ]
  },
  {
   "cell_type": "code",
   "execution_count": 55,
   "id": "e8f8e3c4-1dfb-401f-8160-c471e958cdfa",
   "metadata": {},
   "outputs": [],
   "source": [
    "query7=\"\"\"SELECT bookid, COUNT(*) AS loan_count\n",
    "FROM loans\n",
    "GROUP BY bookid\n",
    "ORDER BY loan_count DESC\n",
    "LIMIT 10;\n",
    "\"\"\""
   ]
  },
  {
   "cell_type": "code",
   "execution_count": 56,
   "id": "c553e3ea-3324-4a87-8919-6b72c00c8a59",
   "metadata": {},
   "outputs": [
    {
     "name": "stderr",
     "output_type": "stream",
     "text": [
      "/var/folders/pn/727r1z554zz3k1s6xns85tpr0000gn/T/ipykernel_99411/4055592419.py:1: UserWarning: pandas only supports SQLAlchemy connectable (engine/connection) or database string URI or sqlite3 DBAPI2 connection. Other DBAPI2 objects are not tested. Please consider using SQLAlchemy.\n",
      "  ques6= pd.read_sql(query7,connection)\n"
     ]
    }
   ],
   "source": [
    "ques6= pd.read_sql(query7,connection)"
   ]
  },
  {
   "cell_type": "code",
   "execution_count": 57,
   "id": "18d63660-90b7-4c36-ab87-e5fa51847a0f",
   "metadata": {},
   "outputs": [
    {
     "data": {
      "image/png": "[encoded data removed]",
      "text/plain": [
       "<Figure size 640x480 with 1 Axes>"
      ]
     },
     "metadata": {},
     "output_type": "display_data"
    }
   ],
   "source": [
    "ques6.plot(kind='barh', x='bookid', y='loan_count', legend=False)\n",
    "plt.xlabel('Loan Count')\n",
    "plt.ylabel('Book ID')\n",
    "plt.title('Most Popular Books based on Number of Loans')\n",
    "plt.show()"
   ]
  },
  {
   "cell_type": "markdown",
   "id": "539fc185-bec1-4e10-81aa-e970bdd31e4c",
   "metadata": {},
   "source": [
    "* 7. How many books have been returned late?"
   ]
  },
  {
   "cell_type": "code",
   "execution_count": 58,
   "id": "195c5d3b-ab2b-4a50-b0eb-cea444f8b309",
   "metadata": {},
   "outputs": [],
   "source": [
    "query8= \"\"\"SELECT COUNT(*) AS return_count\n",
    "FROM loans\n",
    "WHERE returndate > duedate;\n",
    "\"\"\""
   ]
  },
  {
   "cell_type": "code",
   "execution_count": 59,
   "id": "792513db-29b6-4684-a561-4fc61390f618",
   "metadata": {},
   "outputs": [
    {
     "name": "stderr",
     "output_type": "stream",
     "text": [
      "/var/folders/pn/727r1z554zz3k1s6xns85tpr0000gn/T/ipykernel_99411/3408842439.py:1: UserWarning: pandas only supports SQLAlchemy connectable (engine/connection) or database string URI or sqlite3 DBAPI2 connection. Other DBAPI2 objects are not tested. Please consider using SQLAlchemy.\n",
      "  ques7= pd.read_sql(query8,connection)\n"
     ]
    }
   ],
   "source": [
    "ques7= pd.read_sql(query8,connection)"
   ]
  },
  {
   "cell_type": "code",
   "execution_count": 60,
   "id": "e27b797a-b5e1-47ac-a626-a8d328929d9c",
   "metadata": {},
   "outputs": [
    {
     "data": {
      "text/html": [
       "<div>\n",
       "<style scoped>\n",
       "    .dataframe tbody tr th:only-of-type {\n",
       "        vertical-align: middle;\n",
       "    }\n",
       "\n",
       "    .dataframe tbody tr th {\n",
       "        vertical-align: top;\n",
       "    }\n",
       "\n",
       "    .dataframe thead th {\n",
       "        text-align: right;\n",
       "    }\n",
       "</style>\n",
       "<table border=\"1\" class=\"dataframe\">\n",
       "  <thead>\n",
       "    <tr style=\"text-align: right;\">\n",
       "      <th></th>\n",
       "      <th>return_count</th>\n",
       "    </tr>\n",
       "  </thead>\n",
       "  <tbody>\n",
       "    <tr>\n",
       "      <th>0</th>\n",
       "      <td>0</td>\n",
       "    </tr>\n",
       "  </tbody>\n",
       "</table>\n",
       "</div>"
      ],
      "text/plain": [
       "   return_count\n",
       "0             0"
      ]
     },
     "execution_count": 60,
     "metadata": {},
     "output_type": "execute_result"
    }
   ],
   "source": [
    "ques7"
   ]
  },
  {
   "cell_type": "markdown",
   "id": "88cd4389-2695-4631-bd1c-8b088042f6bc",
   "metadata": {},
   "source": [
    "* 8. What is the average number of books loaned by each patron?"
   ]
  },
  {
   "cell_type": "code",
   "execution_count": 61,
   "id": "4dcc29bb-607e-48b2-a3d8-b727c3438553",
   "metadata": {
    "scrolled": true
   },
   "outputs": [],
   "source": [
    "query9 = \"\"\"\n",
    "SELECT patronid, AVG(book_count) AS average_books_loaned\n",
    "FROM (\n",
    "    SELECT patronid, COUNT(bookid) AS book_count\n",
    "    FROM loans\n",
    "    GROUP BY patronid, bookid\n",
    ") AS patron_books\n",
    "GROUP BY patronid\n",
    "ORDER BY average_books_loaned DESC;\n",
    "\n",
    "\"\"\"\n"
   ]
  },
  {
   "cell_type": "code",
   "execution_count": 62,
   "id": "17a903d6-d4c1-4f26-bf15-31dee578c893",
   "metadata": {
    "scrolled": true
   },
   "outputs": [
    {
     "name": "stderr",
     "output_type": "stream",
     "text": [
      "/var/folders/pn/727r1z554zz3k1s6xns85tpr0000gn/T/ipykernel_99411/1532807237.py:1: UserWarning: pandas only supports SQLAlchemy connectable (engine/connection) or database string URI or sqlite3 DBAPI2 connection. Other DBAPI2 objects are not tested. Please consider using SQLAlchemy.\n",
      "  ques8= pd.read_sql(query9, connection)\n"
     ]
    }
   ],
   "source": [
    "ques8= pd.read_sql(query9, connection)"
   ]
  },
  {
   "cell_type": "code",
   "execution_count": 63,
   "id": "3ffda360-32c4-4454-a131-a440e1a1c4de",
   "metadata": {},
   "outputs": [
    {
     "data": {
      "text/html": [
       "<div>\n",
       "<style scoped>\n",
       "    .dataframe tbody tr th:only-of-type {\n",
       "        vertical-align: middle;\n",
       "    }\n",
       "\n",
       "    .dataframe tbody tr th {\n",
       "        vertical-align: top;\n",
       "    }\n",
       "\n",
       "    .dataframe thead th {\n",
       "        text-align: right;\n",
       "    }\n",
       "</style>\n",
       "<table border=\"1\" class=\"dataframe\">\n",
       "  <thead>\n",
       "    <tr style=\"text-align: right;\">\n",
       "      <th></th>\n",
       "      <th>patronid</th>\n",
       "      <th>average_books_loaned</th>\n",
       "    </tr>\n",
       "  </thead>\n",
       "  <tbody>\n",
       "    <tr>\n",
       "      <th>0</th>\n",
       "      <td>831</td>\n",
       "      <td>1.0</td>\n",
       "    </tr>\n",
       "    <tr>\n",
       "      <th>1</th>\n",
       "      <td>971</td>\n",
       "      <td>1.0</td>\n",
       "    </tr>\n",
       "    <tr>\n",
       "      <th>2</th>\n",
       "      <td>840</td>\n",
       "      <td>1.0</td>\n",
       "    </tr>\n",
       "    <tr>\n",
       "      <th>3</th>\n",
       "      <td>1606</td>\n",
       "      <td>1.0</td>\n",
       "    </tr>\n",
       "    <tr>\n",
       "      <th>4</th>\n",
       "      <td>158</td>\n",
       "      <td>1.0</td>\n",
       "    </tr>\n",
       "  </tbody>\n",
       "</table>\n",
       "</div>"
      ],
      "text/plain": [
       "   patronid  average_books_loaned\n",
       "0       831                   1.0\n",
       "1       971                   1.0\n",
       "2       840                   1.0\n",
       "3      1606                   1.0\n",
       "4       158                   1.0"
      ]
     },
     "execution_count": 63,
     "metadata": {},
     "output_type": "execute_result"
    }
   ],
   "source": [
    "ques8.head()"
   ]
  },
  {
   "cell_type": "markdown",
   "id": "957a1bb2-4e9e-4317-a57f-f40d3b2140d8",
   "metadata": {},
   "source": [
    "* 9. Who are the patrons who have taken the most number of loans?"
   ]
  },
  {
   "cell_type": "code",
   "execution_count": 64,
   "id": "b233baec-cd8c-4063-82d9-fc3eb6332555",
   "metadata": {},
   "outputs": [],
   "source": [
    "query10= \"\"\"\n",
    "SELECT patronid, COUNT(bookid) AS num_loans\n",
    "FROM loans\n",
    "GROUP BY patronid\n",
    "ORDER BY num_loans DESC\n",
    "LIMIT 10;\n",
    "\"\"\"\n"
   ]
  },
  {
   "cell_type": "code",
   "execution_count": 65,
   "id": "517ecc11-ca94-4ab7-b882-a3d973d330c4",
   "metadata": {},
   "outputs": [
    {
     "name": "stderr",
     "output_type": "stream",
     "text": [
      "/var/folders/pn/727r1z554zz3k1s6xns85tpr0000gn/T/ipykernel_99411/143639905.py:1: UserWarning: pandas only supports SQLAlchemy connectable (engine/connection) or database string URI or sqlite3 DBAPI2 connection. Other DBAPI2 objects are not tested. Please consider using SQLAlchemy.\n",
      "  ques9= pd.read_sql(query10,connection)\n"
     ]
    }
   ],
   "source": [
    "ques9= pd.read_sql(query10,connection)"
   ]
  },
  {
   "cell_type": "code",
   "execution_count": 66,
   "id": "2ed05eb1-e78e-442d-b496-f2662cb953fe",
   "metadata": {},
   "outputs": [
    {
     "data": {
      "text/html": [
       "<div>\n",
       "<style scoped>\n",
       "    .dataframe tbody tr th:only-of-type {\n",
       "        vertical-align: middle;\n",
       "    }\n",
       "\n",
       "    .dataframe tbody tr th {\n",
       "        vertical-align: top;\n",
       "    }\n",
       "\n",
       "    .dataframe thead th {\n",
       "        text-align: right;\n",
       "    }\n",
       "</style>\n",
       "<table border=\"1\" class=\"dataframe\">\n",
       "  <thead>\n",
       "    <tr style=\"text-align: right;\">\n",
       "      <th></th>\n",
       "      <th>patronid</th>\n",
       "      <th>num_loans</th>\n",
       "    </tr>\n",
       "  </thead>\n",
       "  <tbody>\n",
       "    <tr>\n",
       "      <th>0</th>\n",
       "      <td>2374</td>\n",
       "      <td>5</td>\n",
       "    </tr>\n",
       "    <tr>\n",
       "      <th>1</th>\n",
       "      <td>449</td>\n",
       "      <td>5</td>\n",
       "    </tr>\n",
       "    <tr>\n",
       "      <th>2</th>\n",
       "      <td>869</td>\n",
       "      <td>5</td>\n",
       "    </tr>\n",
       "    <tr>\n",
       "      <th>3</th>\n",
       "      <td>102</td>\n",
       "      <td>5</td>\n",
       "    </tr>\n",
       "    <tr>\n",
       "      <th>4</th>\n",
       "      <td>400</td>\n",
       "      <td>5</td>\n",
       "    </tr>\n",
       "    <tr>\n",
       "      <th>5</th>\n",
       "      <td>1296</td>\n",
       "      <td>5</td>\n",
       "    </tr>\n",
       "    <tr>\n",
       "      <th>6</th>\n",
       "      <td>1530</td>\n",
       "      <td>5</td>\n",
       "    </tr>\n",
       "    <tr>\n",
       "      <th>7</th>\n",
       "      <td>180</td>\n",
       "      <td>5</td>\n",
       "    </tr>\n",
       "    <tr>\n",
       "      <th>8</th>\n",
       "      <td>476</td>\n",
       "      <td>5</td>\n",
       "    </tr>\n",
       "    <tr>\n",
       "      <th>9</th>\n",
       "      <td>1312</td>\n",
       "      <td>5</td>\n",
       "    </tr>\n",
       "  </tbody>\n",
       "</table>\n",
       "</div>"
      ],
      "text/plain": [
       "   patronid  num_loans\n",
       "0      2374          5\n",
       "1       449          5\n",
       "2       869          5\n",
       "3       102          5\n",
       "4       400          5\n",
       "5      1296          5\n",
       "6      1530          5\n",
       "7       180          5\n",
       "8       476          5\n",
       "9      1312          5"
      ]
     },
     "execution_count": 66,
     "metadata": {},
     "output_type": "execute_result"
    }
   ],
   "source": [
    "ques9"
   ]
  },
  {
   "cell_type": "markdown",
   "id": "62ae99f5-cb78-4505-8279-e1dc84695bf6",
   "metadata": {},
   "source": [
    "* 10. What is the distribution of patrons based on their email domain?"
   ]
  },
  {
   "cell_type": "code",
   "execution_count": 67,
   "id": "9288b55e-63e5-4483-ac4e-7a281c908d01",
   "metadata": {},
   "outputs": [],
   "source": [
    "query11= \"\"\"\n",
    "SELECT SUBSTRING_INDEX(email, '@', -1) AS email_domain, COUNT(patronid) AS num_patrons\n",
    "FROM patrons\n",
    "GROUP BY email_domain\n",
    "ORDER BY num_patrons DESC;\n",
    "\"\"\"\n"
   ]
  },
  {
   "cell_type": "code",
   "execution_count": 68,
   "id": "f7d608f6-2df2-43fb-bedb-64225866bfb1",
   "metadata": {},
   "outputs": [
    {
     "name": "stderr",
     "output_type": "stream",
     "text": [
      "/var/folders/pn/727r1z554zz3k1s6xns85tpr0000gn/T/ipykernel_99411/555148441.py:1: UserWarning: pandas only supports SQLAlchemy connectable (engine/connection) or database string URI or sqlite3 DBAPI2 connection. Other DBAPI2 objects are not tested. Please consider using SQLAlchemy.\n",
      "  ques10= pd.read_sql(query11,connection)\n"
     ]
    }
   ],
   "source": [
    "ques10= pd.read_sql(query11,connection)"
   ]
  },
  {
   "cell_type": "code",
   "execution_count": 69,
   "id": "921b01e4-e7f9-43c7-8f14-f99d86b07065",
   "metadata": {},
   "outputs": [
    {
     "data": {
      "text/html": [
       "<div>\n",
       "<style scoped>\n",
       "    .dataframe tbody tr th:only-of-type {\n",
       "        vertical-align: middle;\n",
       "    }\n",
       "\n",
       "    .dataframe tbody tr th {\n",
       "        vertical-align: top;\n",
       "    }\n",
       "\n",
       "    .dataframe thead th {\n",
       "        text-align: right;\n",
       "    }\n",
       "</style>\n",
       "<table border=\"1\" class=\"dataframe\">\n",
       "  <thead>\n",
       "    <tr style=\"text-align: right;\">\n",
       "      <th></th>\n",
       "      <th>email_domain</th>\n",
       "      <th>num_patrons</th>\n",
       "    </tr>\n",
       "  </thead>\n",
       "  <tbody>\n",
       "    <tr>\n",
       "      <th>0</th>\n",
       "      <td>example.org</td>\n",
       "      <td>1011</td>\n",
       "    </tr>\n",
       "    <tr>\n",
       "      <th>1</th>\n",
       "      <td>example.com</td>\n",
       "      <td>1008</td>\n",
       "    </tr>\n",
       "    <tr>\n",
       "      <th>2</th>\n",
       "      <td>example.net</td>\n",
       "      <td>981</td>\n",
       "    </tr>\n",
       "  </tbody>\n",
       "</table>\n",
       "</div>"
      ],
      "text/plain": [
       "  email_domain  num_patrons\n",
       "0  example.org         1011\n",
       "1  example.com         1008\n",
       "2  example.net          981"
      ]
     },
     "execution_count": 69,
     "metadata": {},
     "output_type": "execute_result"
    }
   ],
   "source": [
    "ques10"
   ]
  },
  {
   "cell_type": "code",
   "execution_count": 70,
   "id": "235d4382-8453-4e62-873a-14fb78f2b5fb",
   "metadata": {},
   "outputs": [],
   "source": [
    "#pip install pandoc"
   ]
  },
  {
   "cell_type": "code",
   "execution_count": null,
   "id": "2c56bc15-44d2-470b-9f86-247ec6cb72a3",
   "metadata": {},
   "outputs": [],
   "source": []
  }
 ],
 "metadata": {
  "kernelspec": {
   "display_name": "Python 3 (ipykernel)",
   "language": "python",
   "name": "python3"
  },
  "language_info": {
   "codemirror_mode": {
    "name": "ipython",
    "version": 3
   },
   "file_extension": ".py",
   "mimetype": "text/x-python",
   "name": "python",
   "nbconvert_exporter": "python",
   "pygments_lexer": "ipython3",
   "version": "3.9.18"
  }
 },
 "nbformat": 4,
 "nbformat_minor": 5
}
